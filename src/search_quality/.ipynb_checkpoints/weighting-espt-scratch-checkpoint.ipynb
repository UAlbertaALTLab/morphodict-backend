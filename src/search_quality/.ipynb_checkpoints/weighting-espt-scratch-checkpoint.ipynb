{
 "cells": [
  {
   "cell_type": "code",
   "execution_count": null,
   "id": "cf7731a2-fa78-4e08-bd79-807be4b14dd6",
   "metadata": {},
   "outputs": [],
   "source": []
  },
  {
   "cell_type": "code",
   "execution_count": 50,
   "id": "40e70cac-0d65-40ca-a4ee-82ac01b5be21",
   "metadata": {
    "tags": []
   },
   "outputs": [],
   "source": [
    "def none_or_true_to_zero_or_one(x):\n",
    "    if x:\n",
    "        return 1\n",
    "    return 0"
   ]
  },
  {
   "cell_type": "code",
   "execution_count": null,
   "id": "b7cae2ad-e77f-451b-ae1a-cba336c41f08",
   "metadata": {},
   "outputs": [],
   "source": [
    "is_espt_result=df['is_espt_result'].apply(none_or_true_to_zero_or_one)"
   ]
  }
 ],
 "metadata": {
  "kernelspec": {
   "display_name": "Python 3 (ipykernel)",
   "language": "python",
   "name": "python3"
  },
  "language_info": {
   "codemirror_mode": {
    "name": "ipython",
    "version": 3
   },
   "file_extension": ".py",
   "mimetype": "text/x-python",
   "name": "python",
   "nbconvert_exporter": "python",
   "pygments_lexer": "ipython3",
   "version": "3.9.0"
  }
 },
 "nbformat": 4,
 "nbformat_minor": 5
}
